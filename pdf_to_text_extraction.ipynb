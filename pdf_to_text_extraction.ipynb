{
 "cells": [
  {
   "cell_type": "code",
   "execution_count": 3,
   "metadata": {},
   "outputs": [],
   "source": [
    "import pdfplumber\n",
    "import requests"
   ]
  },
  {
   "cell_type": "code",
   "execution_count": 48,
   "metadata": {},
   "outputs": [],
   "source": [
    "def download_file(url):\n",
    "    local_filename=url.split(\"/\")[-1]\n",
    "    print(local_filename)\n",
    "    \n",
    "    with requests.get(url) as r:\n",
    "        f= open(local_filename,'wb')  \n",
    "        f.write(r.content)\n",
    "        print(f)\n",
    "            \n",
    "    return local_filename"
   ]
  },
  {
   "cell_type": "code",
   "execution_count": 47,
   "metadata": {},
   "outputs": [],
   "source": [
    "invoice_url='http://www.k-billing.com/example_invoices/professionalblue_example.pdf'"
   ]
  },
  {
   "cell_type": "code",
   "execution_count": 49,
   "metadata": {},
   "outputs": [
    {
     "name": "stdout",
     "output_type": "stream",
     "text": [
      "professionalblue_example.pdf\n",
      "<_io.BufferedWriter name='professionalblue_example.pdf'>\n"
     ]
    }
   ],
   "source": [
    "invoice=download_file(invoice_url)"
   ]
  },
  {
   "cell_type": "code",
   "execution_count": 50,
   "metadata": {},
   "outputs": [],
   "source": [
    "with pdfplumber.open(invoice) as pdf:\n",
    "    page=pdf.pages[0]\n",
    "    text=page.extract_text()"
   ]
  },
  {
   "cell_type": "code",
   "execution_count": 51,
   "metadata": {},
   "outputs": [
    {
     "name": "stdout",
     "output_type": "stream",
     "text": [
      "INVOICE\n",
      "Invoice No. I1083\n",
      "Account # C1006\n",
      "Date 08-14-2008\n",
      "Due By 08-31-2008\n",
      "Demo Company\n",
      "Phone : 111-222-3333 Terms None\n",
      "1234 Main Street E-Mail : 333-444-4444 PO No. PO1234\n",
      "Ashland, KY 41102 Web : http://www.ksoftware.net Sales Rep SalesPerson1\n",
      "Bill To Ship To\n",
      "Test Customer Test Customer\n",
      "1234 Main Street 1234 Main Street\n",
      "Ashland, KY 41101 Ashland,  41101\n",
      "CCooddee DDeessccrriippttiioonn QTY Price Line Total\n",
      "SKU1222 Test Import Name - Description Goes Here 1 $10.00 $10.00\n",
      "Labor - Example labor item. Quantity is number of hours spent,  1.5 $100.00 $150.00\n",
      "price is hourly rate. Quantity accepts decimal values.\n",
      "Notes\n",
      "An invoice note can go here. Multi-line and even multi-page notes are supported.\n",
      "PPaayymmeenntt  DDeettaaiillss\n",
      "Subtotal $160.00\n",
      "Shipping$10.00 Tax $0.78\n",
      "UPS Ground Total $170.78\n",
      "Payments (-) $0.00\n",
      "Balance Due $170.78\n",
      "An invoice footer can go here\n"
     ]
    }
   ],
   "source": [
    "print(text)"
   ]
  },
  {
   "cell_type": "code",
   "execution_count": 1,
   "metadata": {},
   "outputs": [],
   "source": [
    "file=\"C:/Users/admin/Downloads/professionalblue_example.pdf\""
   ]
  },
  {
   "cell_type": "code",
   "execution_count": 4,
   "metadata": {},
   "outputs": [
    {
     "name": "stdout",
     "output_type": "stream",
     "text": [
      "INVOICE\n",
      "Invoice No. I1083\n",
      "Account # C1006\n",
      "Date 08-14-2008\n",
      "Due By 08-31-2008\n",
      "Demo Company\n",
      "Phone : 111-222-3333 Terms None\n",
      "1234 Main Street E-Mail : 333-444-4444 PO No. PO1234\n",
      "Ashland, KY 41102 Web : http://www.ksoftware.net Sales Rep SalesPerson1\n",
      "Bill To Ship To\n",
      "Test Customer Test Customer\n",
      "1234 Main Street 1234 Main Street\n",
      "Ashland, KY 41101 Ashland,  41101\n",
      "CCooddee DDeessccrriippttiioonn QTY Price Line Total\n",
      "SKU1222 Test Import Name - Description Goes Here 1 $10.00 $10.00\n",
      "Labor - Example labor item. Quantity is number of hours spent,  1.5 $100.00 $150.00\n",
      "price is hourly rate. Quantity accepts decimal values.\n",
      "Notes\n",
      "An invoice note can go here. Multi-line and even multi-page notes are supported.\n",
      "PPaayymmeenntt  DDeettaaiillss\n",
      "Subtotal $160.00\n",
      "Shipping$10.00 Tax $0.78\n",
      "UPS Ground Total $170.78\n",
      "Payments (-) $0.00\n",
      "Balance Due $170.78\n",
      "An invoice footer can go here\n"
     ]
    }
   ],
   "source": [
    "with pdfplumber.open(file) as pdf:\n",
    "    pages = pdf.pages\n",
    "    for page in pdf.pages:\n",
    "        text = page.extract_text()\n",
    "        for line in text.split('\\n'):\n",
    "            print(line)"
   ]
  }
 ],
 "metadata": {
  "kernelspec": {
   "display_name": "Python 3",
   "language": "python",
   "name": "python3"
  },
  "language_info": {
   "codemirror_mode": {
    "name": "ipython",
    "version": 3
   },
   "file_extension": ".py",
   "mimetype": "text/x-python",
   "name": "python",
   "nbconvert_exporter": "python",
   "pygments_lexer": "ipython3",
   "version": "3.7.1"
  }
 },
 "nbformat": 4,
 "nbformat_minor": 2
}
